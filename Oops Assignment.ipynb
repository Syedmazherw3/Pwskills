{
 "cells": [
  {
   "cell_type": "markdown",
   "id": "550fb79f-f16e-41d0-a04f-c204a2bf2796",
   "metadata": {},
   "source": [
    "1.Explain Class and Object with respect to Object-Oriented Programming. Give a suitable example.\n",
    "\n",
    "Ans.  1.Class is logical Entity in which we write the logics of the Application.\n",
    "\n",
    "     2.Class is a blueprint it decides object creation.\n",
    "     \n",
    "     3.Class is collection of objects\n",
    "     \n",
    "     4.Object is a physical entity represent memory. \n",
    "     \n",
    "     Example :- Building \n",
    "    Suppose a class is a prototype of a building. A building contains all the details about the floor, rooms, doors, windows, etc. we can       make as many buildings as we want based on these details. Hence the building can be seen as a class, and we can create as many objects of this class.\n"
   ]
  },
  {
   "cell_type": "markdown",
   "id": "5ac8e5f7-9768-498a-a143-702903161b3a",
   "metadata": {},
   "source": [
    "Q2. Name the four pillars of OOPs.\n",
    "\n",
    "Ans.The four pillars of OOPs are\n",
    "\n",
    "1.Inheritance\n",
    "\n",
    "2.Abstraction\n",
    "\n",
    "3.Polymorphism\n",
    "\n",
    "4.Encapsulation"
   ]
  },
  {
   "cell_type": "code",
   "execution_count": 21,
   "id": "4d1fc191-0652-44c9-8098-61c6cc247e09",
   "metadata": {},
   "outputs": [],
   "source": [
    "#Q3. Explain why the __init__() function is used. Give a suitable example.\n",
    "#Ans. __init__ is  a Constructor.\n",
    "#A contructor is a special type of function which is used to initialise the instance member of the class.\n",
    "\n",
    "class myclass():\n",
    "    def __init__(self,Empid, Empname, Empsalary):\n",
    "        self.Empid1 = Empid\n",
    "        self.Empname1 = Empname\n",
    "        self.Empsalary1 = Empsalary\n",
    "    def return_employee_details(self):\n",
    "        return self.Empid1, self.Empname1, self.Empsalary1\n",
    "e1 = myclass(101, \"Syed Mazheruddin\", 10000)\n",
    "e1.return_employee_details()\n",
    "    "
   ]
  },
  {
   "cell_type": "markdown",
   "id": "7f8533a2-a3d9-49c6-9e5f-e862567356e9",
   "metadata": {},
   "source": [
    "Q4. Why self is used in OOPs?\n",
    "\n",
    "Ans. Self is used to represent instance of the class."
   ]
  },
  {
   "cell_type": "markdown",
   "id": "342d036f-b806-4608-bca2-4649a1a278bf",
   "metadata": {},
   "source": [
    "Q5. What is inheritance? Give an example for each type of inheritance.\n",
    "\n",
    "Ans. The Process of acquiring properties and behaviour from one class to another class is called inheritance.\n",
    "\n",
    "There are 5 types of inheritance\n",
    "\n",
    "1.Single Inheritance\n",
    "\n",
    "2.Multilevel Inheritance\n",
    "\n",
    "3.Multiple Inheritance\n",
    "\n",
    "4.Hierarchical Inheritance\n",
    "\n",
    "5.Hybrid Inheritance."
   ]
  },
  {
   "cell_type": "code",
   "execution_count": null,
   "id": "84c10f4a-30db-43c2-b9b2-c860762926d5",
   "metadata": {},
   "outputs": [],
   "source": []
  }
 ],
 "metadata": {
  "kernelspec": {
   "display_name": "Python 3 (ipykernel)",
   "language": "python",
   "name": "python3"
  },
  "language_info": {
   "codemirror_mode": {
    "name": "ipython",
    "version": 3
   },
   "file_extension": ".py",
   "mimetype": "text/x-python",
   "name": "python",
   "nbconvert_exporter": "python",
   "pygments_lexer": "ipython3",
   "version": "3.10.8"
  }
 },
 "nbformat": 4,
 "nbformat_minor": 5
}
